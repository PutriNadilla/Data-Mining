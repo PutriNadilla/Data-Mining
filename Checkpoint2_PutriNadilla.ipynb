{
  "nbformat": 4,
  "nbformat_minor": 0,
  "metadata": {
    "colab": {
      "provenance": [],
      "authorship_tag": "ABX9TyNFoBJk+vbwwfDLMm2D1yTM",
      "include_colab_link": true
    },
    "kernelspec": {
      "name": "python3",
      "display_name": "Python 3"
    },
    "language_info": {
      "name": "python"
    }
  },
  "cells": [
    {
      "cell_type": "markdown",
      "metadata": {
        "id": "view-in-github",
        "colab_type": "text"
      },
      "source": [
        "<a href=\"https://colab.research.google.com/github/PutriNadilla/Data-Mining/blob/main/Checkpoint2_PutriNadilla.ipynb\" target=\"_parent\"><img src=\"https://colab.research.google.com/assets/colab-badge.svg\" alt=\"Open In Colab\"/></a>"
      ]
    },
    {
      "cell_type": "markdown",
      "source": [
        "# **Video Game Sales Analysis**"
      ],
      "metadata": {
        "id": "NBpiGKnk27S5"
      }
    },
    {
      "cell_type": "markdown",
      "source": [
        "#**Import Library**"
      ],
      "metadata": {
        "id": "_y-Y6lxI2BxF"
      }
    },
    {
      "cell_type": "code",
      "source": [
        "import pandas as pd\n",
        "import matplotlib.pyplot as plt\n",
        "import seaborn as sns"
      ],
      "metadata": {
        "id": "w0JxiCqL2DV9"
      },
      "execution_count": 2,
      "outputs": []
    },
    {
      "cell_type": "markdown",
      "source": [
        "#**BUSINESS UNDERSTANDING**"
      ],
      "metadata": {
        "id": "i2zXIVc_3G6g"
      }
    },
    {
      "cell_type": "markdown",
      "source": [
        "##**Business Objective**"
      ],
      "metadata": {
        "id": "xucHhQfB3OcQ"
      }
    },
    {
      "cell_type": "markdown",
      "source": [
        "Tujuan bisnis dari dataset ini adalah untuk menganalisis penjualan global video game, analisis ini bertujuan untuk memberikan pandangan yang berguna bagi pengembang dan penerbit game dalam membuat keputusan strategis terkait pemasaran, pengembangan game baru, dan distribusi."
      ],
      "metadata": {
        "id": "8TWBb1WQ3QFk"
      }
    },
    {
      "cell_type": "markdown",
      "source": [
        "##**Assess Situation**"
      ],
      "metadata": {
        "id": "X_E2GPvg3Y4K"
      }
    },
    {
      "cell_type": "markdown",
      "source": [
        "Situasi bisnis yang mendasari analisis ini didasarkan pada situasi bisnis yang kompleks di industri game. Dalam industri yang sangat kompetitif, perusahaan game menghadapi persaingan yang ketat dalam merebut pangsa pasar. Dengan menganalisis data penjualan, perusahaan dapat memahami tren pasar, preferensi konsumen, dan faktor-faktor yang mempengaruhi keberhasilan sebuah video game."
      ],
      "metadata": {
        "id": "2cowQNSq3g7V"
      }
    },
    {
      "cell_type": "markdown",
      "source": [
        "##**Data Mining Goals**"
      ],
      "metadata": {
        "id": "oJVEoOkL38Zn"
      }
    },
    {
      "cell_type": "markdown",
      "source": [
        "Tujuan dari data mining pada dataset ini adalah untuk mengidentifikasi faktor-faktor yang mempengaruhi penjualan global video game yang dapat memberikan pandangan tentang preferensi konsumen dan tren pasar. Hal ini mencakup identifikasi genre game yang paling diminati, platform yang paling populer, hubungan antara waktu rilis dan penjualan. Selain itu, tujuan analisis data juga mencakup pengembangan model prediktif untuk memprediksi penjualan game di masa depan berdasarkan fitur-fitur tertentu."
      ],
      "metadata": {
        "id": "j69tqEKN39VC"
      }
    },
    {
      "cell_type": "markdown",
      "source": [
        "##**Project Plan**"
      ],
      "metadata": {
        "id": "E003ADeM4EyG"
      }
    },
    {
      "cell_type": "markdown",
      "source": [
        "\n",
        "Rencana proyek untuk menganalisis dataset ini mencakup langkah-langkah yaitu persiapan data, analisis eksplorasi data, pemodelan, evaluasi model, dan penyajian hasil, yang akan memastikan bahwa proyek menghasilkan hasil yang relevan dan bermanfaat bagi perusahaan game."
      ],
      "metadata": {
        "id": "chFoOXkV4Hz9"
      }
    },
    {
      "cell_type": "markdown",
      "source": [
        "#**DATA UNDERSTANDING**"
      ],
      "metadata": {
        "id": "SqhFUXep4w-_"
      }
    },
    {
      "cell_type": "markdown",
      "source": [
        "##**Collect Initial Data**"
      ],
      "metadata": {
        "id": "NtXj4sgz40Pd"
      }
    },
    {
      "cell_type": "code",
      "source": [
        "df = pd.read_csv(\"vgsales.csv\")\n",
        "\n",
        "df.head()"
      ],
      "metadata": {
        "colab": {
          "base_uri": "https://localhost:8080/",
          "height": 206
        },
        "id": "SDvrfFtd5AXr",
        "outputId": "d3cc840b-471a-4f43-c838-25b9fa0a18a0"
      },
      "execution_count": 3,
      "outputs": [
        {
          "output_type": "execute_result",
          "data": {
            "text/plain": [
              "   Rank                      Name Platform    Year         Genre Publisher  \\\n",
              "0     1                Wii Sports      Wii  2006.0        Sports  Nintendo   \n",
              "1     2         Super Mario Bros.      NES  1985.0      Platform  Nintendo   \n",
              "2     3            Mario Kart Wii      Wii  2008.0        Racing  Nintendo   \n",
              "3     4         Wii Sports Resort      Wii  2009.0        Sports  Nintendo   \n",
              "4     5  Pokemon Red/Pokemon Blue       GB  1996.0  Role-Playing  Nintendo   \n",
              "\n",
              "   NA_Sales  EU_Sales  JP_Sales  Other_Sales  Global_Sales  \n",
              "0     41.49     29.02      3.77         8.46         82.74  \n",
              "1     29.08      3.58      6.81         0.77         40.24  \n",
              "2     15.85     12.88      3.79         3.31         35.82  \n",
              "3     15.75     11.01      3.28         2.96         33.00  \n",
              "4     11.27      8.89     10.22         1.00         31.37  "
            ],
            "text/html": [
              "\n",
              "  <div id=\"df-7ad0a2c9-a8c1-4419-b8c4-83ad485e5524\" class=\"colab-df-container\">\n",
              "    <div>\n",
              "<style scoped>\n",
              "    .dataframe tbody tr th:only-of-type {\n",
              "        vertical-align: middle;\n",
              "    }\n",
              "\n",
              "    .dataframe tbody tr th {\n",
              "        vertical-align: top;\n",
              "    }\n",
              "\n",
              "    .dataframe thead th {\n",
              "        text-align: right;\n",
              "    }\n",
              "</style>\n",
              "<table border=\"1\" class=\"dataframe\">\n",
              "  <thead>\n",
              "    <tr style=\"text-align: right;\">\n",
              "      <th></th>\n",
              "      <th>Rank</th>\n",
              "      <th>Name</th>\n",
              "      <th>Platform</th>\n",
              "      <th>Year</th>\n",
              "      <th>Genre</th>\n",
              "      <th>Publisher</th>\n",
              "      <th>NA_Sales</th>\n",
              "      <th>EU_Sales</th>\n",
              "      <th>JP_Sales</th>\n",
              "      <th>Other_Sales</th>\n",
              "      <th>Global_Sales</th>\n",
              "    </tr>\n",
              "  </thead>\n",
              "  <tbody>\n",
              "    <tr>\n",
              "      <th>0</th>\n",
              "      <td>1</td>\n",
              "      <td>Wii Sports</td>\n",
              "      <td>Wii</td>\n",
              "      <td>2006.0</td>\n",
              "      <td>Sports</td>\n",
              "      <td>Nintendo</td>\n",
              "      <td>41.49</td>\n",
              "      <td>29.02</td>\n",
              "      <td>3.77</td>\n",
              "      <td>8.46</td>\n",
              "      <td>82.74</td>\n",
              "    </tr>\n",
              "    <tr>\n",
              "      <th>1</th>\n",
              "      <td>2</td>\n",
              "      <td>Super Mario Bros.</td>\n",
              "      <td>NES</td>\n",
              "      <td>1985.0</td>\n",
              "      <td>Platform</td>\n",
              "      <td>Nintendo</td>\n",
              "      <td>29.08</td>\n",
              "      <td>3.58</td>\n",
              "      <td>6.81</td>\n",
              "      <td>0.77</td>\n",
              "      <td>40.24</td>\n",
              "    </tr>\n",
              "    <tr>\n",
              "      <th>2</th>\n",
              "      <td>3</td>\n",
              "      <td>Mario Kart Wii</td>\n",
              "      <td>Wii</td>\n",
              "      <td>2008.0</td>\n",
              "      <td>Racing</td>\n",
              "      <td>Nintendo</td>\n",
              "      <td>15.85</td>\n",
              "      <td>12.88</td>\n",
              "      <td>3.79</td>\n",
              "      <td>3.31</td>\n",
              "      <td>35.82</td>\n",
              "    </tr>\n",
              "    <tr>\n",
              "      <th>3</th>\n",
              "      <td>4</td>\n",
              "      <td>Wii Sports Resort</td>\n",
              "      <td>Wii</td>\n",
              "      <td>2009.0</td>\n",
              "      <td>Sports</td>\n",
              "      <td>Nintendo</td>\n",
              "      <td>15.75</td>\n",
              "      <td>11.01</td>\n",
              "      <td>3.28</td>\n",
              "      <td>2.96</td>\n",
              "      <td>33.00</td>\n",
              "    </tr>\n",
              "    <tr>\n",
              "      <th>4</th>\n",
              "      <td>5</td>\n",
              "      <td>Pokemon Red/Pokemon Blue</td>\n",
              "      <td>GB</td>\n",
              "      <td>1996.0</td>\n",
              "      <td>Role-Playing</td>\n",
              "      <td>Nintendo</td>\n",
              "      <td>11.27</td>\n",
              "      <td>8.89</td>\n",
              "      <td>10.22</td>\n",
              "      <td>1.00</td>\n",
              "      <td>31.37</td>\n",
              "    </tr>\n",
              "  </tbody>\n",
              "</table>\n",
              "</div>\n",
              "    <div class=\"colab-df-buttons\">\n",
              "\n",
              "  <div class=\"colab-df-container\">\n",
              "    <button class=\"colab-df-convert\" onclick=\"convertToInteractive('df-7ad0a2c9-a8c1-4419-b8c4-83ad485e5524')\"\n",
              "            title=\"Convert this dataframe to an interactive table.\"\n",
              "            style=\"display:none;\">\n",
              "\n",
              "  <svg xmlns=\"http://www.w3.org/2000/svg\" height=\"24px\" viewBox=\"0 -960 960 960\">\n",
              "    <path d=\"M120-120v-720h720v720H120Zm60-500h600v-160H180v160Zm220 220h160v-160H400v160Zm0 220h160v-160H400v160ZM180-400h160v-160H180v160Zm440 0h160v-160H620v160ZM180-180h160v-160H180v160Zm440 0h160v-160H620v160Z\"/>\n",
              "  </svg>\n",
              "    </button>\n",
              "\n",
              "  <style>\n",
              "    .colab-df-container {\n",
              "      display:flex;\n",
              "      gap: 12px;\n",
              "    }\n",
              "\n",
              "    .colab-df-convert {\n",
              "      background-color: #E8F0FE;\n",
              "      border: none;\n",
              "      border-radius: 50%;\n",
              "      cursor: pointer;\n",
              "      display: none;\n",
              "      fill: #1967D2;\n",
              "      height: 32px;\n",
              "      padding: 0 0 0 0;\n",
              "      width: 32px;\n",
              "    }\n",
              "\n",
              "    .colab-df-convert:hover {\n",
              "      background-color: #E2EBFA;\n",
              "      box-shadow: 0px 1px 2px rgba(60, 64, 67, 0.3), 0px 1px 3px 1px rgba(60, 64, 67, 0.15);\n",
              "      fill: #174EA6;\n",
              "    }\n",
              "\n",
              "    .colab-df-buttons div {\n",
              "      margin-bottom: 4px;\n",
              "    }\n",
              "\n",
              "    [theme=dark] .colab-df-convert {\n",
              "      background-color: #3B4455;\n",
              "      fill: #D2E3FC;\n",
              "    }\n",
              "\n",
              "    [theme=dark] .colab-df-convert:hover {\n",
              "      background-color: #434B5C;\n",
              "      box-shadow: 0px 1px 3px 1px rgba(0, 0, 0, 0.15);\n",
              "      filter: drop-shadow(0px 1px 2px rgba(0, 0, 0, 0.3));\n",
              "      fill: #FFFFFF;\n",
              "    }\n",
              "  </style>\n",
              "\n",
              "    <script>\n",
              "      const buttonEl =\n",
              "        document.querySelector('#df-7ad0a2c9-a8c1-4419-b8c4-83ad485e5524 button.colab-df-convert');\n",
              "      buttonEl.style.display =\n",
              "        google.colab.kernel.accessAllowed ? 'block' : 'none';\n",
              "\n",
              "      async function convertToInteractive(key) {\n",
              "        const element = document.querySelector('#df-7ad0a2c9-a8c1-4419-b8c4-83ad485e5524');\n",
              "        const dataTable =\n",
              "          await google.colab.kernel.invokeFunction('convertToInteractive',\n",
              "                                                    [key], {});\n",
              "        if (!dataTable) return;\n",
              "\n",
              "        const docLinkHtml = 'Like what you see? Visit the ' +\n",
              "          '<a target=\"_blank\" href=https://colab.research.google.com/notebooks/data_table.ipynb>data table notebook</a>'\n",
              "          + ' to learn more about interactive tables.';\n",
              "        element.innerHTML = '';\n",
              "        dataTable['output_type'] = 'display_data';\n",
              "        await google.colab.output.renderOutput(dataTable, element);\n",
              "        const docLink = document.createElement('div');\n",
              "        docLink.innerHTML = docLinkHtml;\n",
              "        element.appendChild(docLink);\n",
              "      }\n",
              "    </script>\n",
              "  </div>\n",
              "\n",
              "\n",
              "<div id=\"df-36bd7e3a-19d6-4041-899a-c87f014a6773\">\n",
              "  <button class=\"colab-df-quickchart\" onclick=\"quickchart('df-36bd7e3a-19d6-4041-899a-c87f014a6773')\"\n",
              "            title=\"Suggest charts\"\n",
              "            style=\"display:none;\">\n",
              "\n",
              "<svg xmlns=\"http://www.w3.org/2000/svg\" height=\"24px\"viewBox=\"0 0 24 24\"\n",
              "     width=\"24px\">\n",
              "    <g>\n",
              "        <path d=\"M19 3H5c-1.1 0-2 .9-2 2v14c0 1.1.9 2 2 2h14c1.1 0 2-.9 2-2V5c0-1.1-.9-2-2-2zM9 17H7v-7h2v7zm4 0h-2V7h2v10zm4 0h-2v-4h2v4z\"/>\n",
              "    </g>\n",
              "</svg>\n",
              "  </button>\n",
              "\n",
              "<style>\n",
              "  .colab-df-quickchart {\n",
              "      --bg-color: #E8F0FE;\n",
              "      --fill-color: #1967D2;\n",
              "      --hover-bg-color: #E2EBFA;\n",
              "      --hover-fill-color: #174EA6;\n",
              "      --disabled-fill-color: #AAA;\n",
              "      --disabled-bg-color: #DDD;\n",
              "  }\n",
              "\n",
              "  [theme=dark] .colab-df-quickchart {\n",
              "      --bg-color: #3B4455;\n",
              "      --fill-color: #D2E3FC;\n",
              "      --hover-bg-color: #434B5C;\n",
              "      --hover-fill-color: #FFFFFF;\n",
              "      --disabled-bg-color: #3B4455;\n",
              "      --disabled-fill-color: #666;\n",
              "  }\n",
              "\n",
              "  .colab-df-quickchart {\n",
              "    background-color: var(--bg-color);\n",
              "    border: none;\n",
              "    border-radius: 50%;\n",
              "    cursor: pointer;\n",
              "    display: none;\n",
              "    fill: var(--fill-color);\n",
              "    height: 32px;\n",
              "    padding: 0;\n",
              "    width: 32px;\n",
              "  }\n",
              "\n",
              "  .colab-df-quickchart:hover {\n",
              "    background-color: var(--hover-bg-color);\n",
              "    box-shadow: 0 1px 2px rgba(60, 64, 67, 0.3), 0 1px 3px 1px rgba(60, 64, 67, 0.15);\n",
              "    fill: var(--button-hover-fill-color);\n",
              "  }\n",
              "\n",
              "  .colab-df-quickchart-complete:disabled,\n",
              "  .colab-df-quickchart-complete:disabled:hover {\n",
              "    background-color: var(--disabled-bg-color);\n",
              "    fill: var(--disabled-fill-color);\n",
              "    box-shadow: none;\n",
              "  }\n",
              "\n",
              "  .colab-df-spinner {\n",
              "    border: 2px solid var(--fill-color);\n",
              "    border-color: transparent;\n",
              "    border-bottom-color: var(--fill-color);\n",
              "    animation:\n",
              "      spin 1s steps(1) infinite;\n",
              "  }\n",
              "\n",
              "  @keyframes spin {\n",
              "    0% {\n",
              "      border-color: transparent;\n",
              "      border-bottom-color: var(--fill-color);\n",
              "      border-left-color: var(--fill-color);\n",
              "    }\n",
              "    20% {\n",
              "      border-color: transparent;\n",
              "      border-left-color: var(--fill-color);\n",
              "      border-top-color: var(--fill-color);\n",
              "    }\n",
              "    30% {\n",
              "      border-color: transparent;\n",
              "      border-left-color: var(--fill-color);\n",
              "      border-top-color: var(--fill-color);\n",
              "      border-right-color: var(--fill-color);\n",
              "    }\n",
              "    40% {\n",
              "      border-color: transparent;\n",
              "      border-right-color: var(--fill-color);\n",
              "      border-top-color: var(--fill-color);\n",
              "    }\n",
              "    60% {\n",
              "      border-color: transparent;\n",
              "      border-right-color: var(--fill-color);\n",
              "    }\n",
              "    80% {\n",
              "      border-color: transparent;\n",
              "      border-right-color: var(--fill-color);\n",
              "      border-bottom-color: var(--fill-color);\n",
              "    }\n",
              "    90% {\n",
              "      border-color: transparent;\n",
              "      border-bottom-color: var(--fill-color);\n",
              "    }\n",
              "  }\n",
              "</style>\n",
              "\n",
              "  <script>\n",
              "    async function quickchart(key) {\n",
              "      const quickchartButtonEl =\n",
              "        document.querySelector('#' + key + ' button');\n",
              "      quickchartButtonEl.disabled = true;  // To prevent multiple clicks.\n",
              "      quickchartButtonEl.classList.add('colab-df-spinner');\n",
              "      try {\n",
              "        const charts = await google.colab.kernel.invokeFunction(\n",
              "            'suggestCharts', [key], {});\n",
              "      } catch (error) {\n",
              "        console.error('Error during call to suggestCharts:', error);\n",
              "      }\n",
              "      quickchartButtonEl.classList.remove('colab-df-spinner');\n",
              "      quickchartButtonEl.classList.add('colab-df-quickchart-complete');\n",
              "    }\n",
              "    (() => {\n",
              "      let quickchartButtonEl =\n",
              "        document.querySelector('#df-36bd7e3a-19d6-4041-899a-c87f014a6773 button');\n",
              "      quickchartButtonEl.style.display =\n",
              "        google.colab.kernel.accessAllowed ? 'block' : 'none';\n",
              "    })();\n",
              "  </script>\n",
              "</div>\n",
              "    </div>\n",
              "  </div>\n"
            ],
            "application/vnd.google.colaboratory.intrinsic+json": {
              "type": "dataframe",
              "variable_name": "df",
              "summary": "{\n  \"name\": \"df\",\n  \"rows\": 16598,\n  \"fields\": [\n    {\n      \"column\": \"Rank\",\n      \"properties\": {\n        \"dtype\": \"number\",\n        \"std\": 4791,\n        \"min\": 1,\n        \"max\": 16600,\n        \"num_unique_values\": 16598,\n        \"samples\": [\n          8930,\n          4791,\n          15495\n        ],\n        \"semantic_type\": \"\",\n        \"description\": \"\"\n      }\n    },\n    {\n      \"column\": \"Name\",\n      \"properties\": {\n        \"dtype\": \"string\",\n        \"num_unique_values\": 11493,\n        \"samples\": [\n          \"Close Combat: First to Fight\",\n          \"Rock 'N Roll Racing\",\n          \"Hakuouki\"\n        ],\n        \"semantic_type\": \"\",\n        \"description\": \"\"\n      }\n    },\n    {\n      \"column\": \"Platform\",\n      \"properties\": {\n        \"dtype\": \"category\",\n        \"num_unique_values\": 31,\n        \"samples\": [\n          \"TG16\",\n          \"2600\",\n          \"SAT\"\n        ],\n        \"semantic_type\": \"\",\n        \"description\": \"\"\n      }\n    },\n    {\n      \"column\": \"Year\",\n      \"properties\": {\n        \"dtype\": \"number\",\n        \"std\": 5.828981114712805,\n        \"min\": 1980.0,\n        \"max\": 2020.0,\n        \"num_unique_values\": 39,\n        \"samples\": [\n          1981.0,\n          1983.0,\n          1996.0\n        ],\n        \"semantic_type\": \"\",\n        \"description\": \"\"\n      }\n    },\n    {\n      \"column\": \"Genre\",\n      \"properties\": {\n        \"dtype\": \"category\",\n        \"num_unique_values\": 12,\n        \"samples\": [\n          \"Adventure\",\n          \"Fighting\",\n          \"Sports\"\n        ],\n        \"semantic_type\": \"\",\n        \"description\": \"\"\n      }\n    },\n    {\n      \"column\": \"Publisher\",\n      \"properties\": {\n        \"dtype\": \"category\",\n        \"num_unique_values\": 578,\n        \"samples\": [\n          \"JoWood Productions\",\n          \"Takuyo\",\n          \"Kamui\"\n        ],\n        \"semantic_type\": \"\",\n        \"description\": \"\"\n      }\n    },\n    {\n      \"column\": \"NA_Sales\",\n      \"properties\": {\n        \"dtype\": \"number\",\n        \"std\": 0.8166830292988796,\n        \"min\": 0.0,\n        \"max\": 41.49,\n        \"num_unique_values\": 409,\n        \"samples\": [\n          1.7,\n          2.97,\n          3.92\n        ],\n        \"semantic_type\": \"\",\n        \"description\": \"\"\n      }\n    },\n    {\n      \"column\": \"EU_Sales\",\n      \"properties\": {\n        \"dtype\": \"number\",\n        \"std\": 0.5053512312869116,\n        \"min\": 0.0,\n        \"max\": 29.02,\n        \"num_unique_values\": 305,\n        \"samples\": [\n          1.15,\n          0.98,\n          2.25\n        ],\n        \"semantic_type\": \"\",\n        \"description\": \"\"\n      }\n    },\n    {\n      \"column\": \"JP_Sales\",\n      \"properties\": {\n        \"dtype\": \"number\",\n        \"std\": 0.30929064808220297,\n        \"min\": 0.0,\n        \"max\": 10.22,\n        \"num_unique_values\": 244,\n        \"samples\": [\n          0.47,\n          6.5,\n          2.1\n        ],\n        \"semantic_type\": \"\",\n        \"description\": \"\"\n      }\n    },\n    {\n      \"column\": \"Other_Sales\",\n      \"properties\": {\n        \"dtype\": \"number\",\n        \"std\": 0.18858840291271461,\n        \"min\": 0.0,\n        \"max\": 10.57,\n        \"num_unique_values\": 157,\n        \"samples\": [\n          0.38,\n          0.23,\n          0.48\n        ],\n        \"semantic_type\": \"\",\n        \"description\": \"\"\n      }\n    },\n    {\n      \"column\": \"Global_Sales\",\n      \"properties\": {\n        \"dtype\": \"number\",\n        \"std\": 1.5550279355699124,\n        \"min\": 0.01,\n        \"max\": 82.74,\n        \"num_unique_values\": 623,\n        \"samples\": [\n          3.91,\n          0.65,\n          5.11\n        ],\n        \"semantic_type\": \"\",\n        \"description\": \"\"\n      }\n    }\n  ]\n}"
            }
          },
          "metadata": {},
          "execution_count": 3
        }
      ]
    },
    {
      "cell_type": "markdown",
      "source": [
        "sumeber dari dataset yang saya ambil adalah dari kaggle dan ini link datasetnya https://www.kaggle.com/datasets/gregorut/videogamesales"
      ],
      "metadata": {
        "id": "L-0-LQTn5QrX"
      }
    },
    {
      "cell_type": "markdown",
      "source": [
        "##**Describe Data**"
      ],
      "metadata": {
        "id": "qxNjPIwd50Gy"
      }
    },
    {
      "cell_type": "markdown",
      "source": [
        "####Informasi Dasar"
      ],
      "metadata": {
        "id": "pvK21dGQ5_YB"
      }
    },
    {
      "cell_type": "code",
      "source": [
        "jumlah_baris, jumlah_kolom = df.shape\n",
        "print(f\"Jumlah Baris: {jumlah_baris}\")\n",
        "print(f\"Jumlah Kolom: {jumlah_kolom}\")"
      ],
      "metadata": {
        "colab": {
          "base_uri": "https://localhost:8080/"
        },
        "id": "IcdWQh0w6If5",
        "outputId": "8cb28fe8-64e3-4c11-d9a2-648b001c68fb"
      },
      "execution_count": 4,
      "outputs": [
        {
          "output_type": "stream",
          "name": "stdout",
          "text": [
            "Jumlah Baris: 16598\n",
            "Jumlah Kolom: 11\n"
          ]
        }
      ]
    },
    {
      "cell_type": "markdown",
      "source": [
        "hasil dari outputnya adalah untuk menampilkan jumlah baris dan jumlah kolom pada dataset ini dan untuk jumlah masing-masingnya adalah jumlah baris berjumlah 16598 dan jumlah baris berjumlah 11."
      ],
      "metadata": {
        "id": "OTLLXz7-6LGk"
      }
    },
    {
      "cell_type": "markdown",
      "source": [
        "####Informasi Lanjutan"
      ],
      "metadata": {
        "id": "XC0d1ERL6nPc"
      }
    },
    {
      "cell_type": "code",
      "source": [
        "df.info()"
      ],
      "metadata": {
        "colab": {
          "base_uri": "https://localhost:8080/"
        },
        "id": "8KT1TQqX6qj-",
        "outputId": "42223d89-0b57-4a92-9927-e197fef557bf"
      },
      "execution_count": 5,
      "outputs": [
        {
          "output_type": "stream",
          "name": "stdout",
          "text": [
            "<class 'pandas.core.frame.DataFrame'>\n",
            "RangeIndex: 16598 entries, 0 to 16597\n",
            "Data columns (total 11 columns):\n",
            " #   Column        Non-Null Count  Dtype  \n",
            "---  ------        --------------  -----  \n",
            " 0   Rank          16598 non-null  int64  \n",
            " 1   Name          16598 non-null  object \n",
            " 2   Platform      16598 non-null  object \n",
            " 3   Year          16327 non-null  float64\n",
            " 4   Genre         16598 non-null  object \n",
            " 5   Publisher     16540 non-null  object \n",
            " 6   NA_Sales      16598 non-null  float64\n",
            " 7   EU_Sales      16598 non-null  float64\n",
            " 8   JP_Sales      16598 non-null  float64\n",
            " 9   Other_Sales   16598 non-null  float64\n",
            " 10  Global_Sales  16598 non-null  float64\n",
            "dtypes: float64(6), int64(1), object(4)\n",
            "memory usage: 1.4+ MB\n"
          ]
        }
      ]
    },
    {
      "cell_type": "markdown",
      "source": [
        "hasil dari dataset ini, terdapat 11 kolom dengan informasi sebagai berikut:\n",
        "\n",
        "Rank: Kolom ini berisi peringkat permainan video dalam hal penjualan global. Tipe datanya adalah int64 yang menunjukkan bilangan bulat.\n",
        "\n",
        "Name: Kolom ini berisi nama permainan video. Tipe datanya adalah object, yang biasanya digunakan untuk menyimpan teks atau string.\n",
        "\n",
        "Platform: Kolom ini berisi platform atau konsol permainan video di mana permainan tersebut dirilis. Tipe datanya adalah object.\n",
        "\n",
        "Year: Kolom ini berisi tahun rilis permainan video. Tipe datanya adalah float64, yang mungkin menunjukkan tahun sebagai bilangan desimal.\n",
        "\n",
        "Genre: Kolom ini berisi genre permainan video. Tipe datanya adalah object.\n",
        "\n",
        "Publisher: Kolom ini berisi nama penerbit atau perusahaan yang merilis permainan video. Tipe datanya adalah object.\n",
        "\n",
        "NA_Sales: Kolom ini berisi total penjualan di Amerika Utara dalam jutaan salinan. Tipe datanya adalah float64.\n",
        "\n",
        "EU_Sales: Kolom ini berisi total penjualan di Eropa dalam jutaan salinan. Tipe datanya adalah float64.\n",
        "\n",
        "JP_Sales: Kolom ini berisi total penjualan di Jepang dalam jutaan salinan. Tipe datanya adalah float64.\n",
        "\n",
        "Other_Sales: Kolom ini berisi total penjualan di seluruh dunia, kecuali di Amerika Utara, Eropa, dan Jepang, dalam jutaan salinan. Tipe datanya adalah float64.\n",
        "\n",
        "Global_Sales: Kolom ini berisi total penjualan global dalam jutaan salinan. Tipe datanya adalah float64."
      ],
      "metadata": {
        "id": "krAXKNqN66fI"
      }
    },
    {
      "cell_type": "markdown",
      "source": [
        "####Informasi Statistik Deskriptif"
      ],
      "metadata": {
        "id": "GshLu7Su7iHb"
      }
    },
    {
      "cell_type": "code",
      "source": [
        "df.describe()"
      ],
      "metadata": {
        "colab": {
          "base_uri": "https://localhost:8080/",
          "height": 300
        },
        "id": "JgOQTSll7lwk",
        "outputId": "455fad00-369a-445d-ae11-aa5158d412d9"
      },
      "execution_count": 6,
      "outputs": [
        {
          "output_type": "execute_result",
          "data": {
            "text/plain": [
              "               Rank          Year      NA_Sales      EU_Sales      JP_Sales  \\\n",
              "count  16598.000000  16327.000000  16598.000000  16598.000000  16598.000000   \n",
              "mean    8300.605254   2006.406443      0.264667      0.146652      0.077782   \n",
              "std     4791.853933      5.828981      0.816683      0.505351      0.309291   \n",
              "min        1.000000   1980.000000      0.000000      0.000000      0.000000   \n",
              "25%     4151.250000   2003.000000      0.000000      0.000000      0.000000   \n",
              "50%     8300.500000   2007.000000      0.080000      0.020000      0.000000   \n",
              "75%    12449.750000   2010.000000      0.240000      0.110000      0.040000   \n",
              "max    16600.000000   2020.000000     41.490000     29.020000     10.220000   \n",
              "\n",
              "        Other_Sales  Global_Sales  \n",
              "count  16598.000000  16598.000000  \n",
              "mean       0.048063      0.537441  \n",
              "std        0.188588      1.555028  \n",
              "min        0.000000      0.010000  \n",
              "25%        0.000000      0.060000  \n",
              "50%        0.010000      0.170000  \n",
              "75%        0.040000      0.470000  \n",
              "max       10.570000     82.740000  "
            ],
            "text/html": [
              "\n",
              "  <div id=\"df-cb06bc90-d317-410d-bcfd-d3c97a78464b\" class=\"colab-df-container\">\n",
              "    <div>\n",
              "<style scoped>\n",
              "    .dataframe tbody tr th:only-of-type {\n",
              "        vertical-align: middle;\n",
              "    }\n",
              "\n",
              "    .dataframe tbody tr th {\n",
              "        vertical-align: top;\n",
              "    }\n",
              "\n",
              "    .dataframe thead th {\n",
              "        text-align: right;\n",
              "    }\n",
              "</style>\n",
              "<table border=\"1\" class=\"dataframe\">\n",
              "  <thead>\n",
              "    <tr style=\"text-align: right;\">\n",
              "      <th></th>\n",
              "      <th>Rank</th>\n",
              "      <th>Year</th>\n",
              "      <th>NA_Sales</th>\n",
              "      <th>EU_Sales</th>\n",
              "      <th>JP_Sales</th>\n",
              "      <th>Other_Sales</th>\n",
              "      <th>Global_Sales</th>\n",
              "    </tr>\n",
              "  </thead>\n",
              "  <tbody>\n",
              "    <tr>\n",
              "      <th>count</th>\n",
              "      <td>16598.000000</td>\n",
              "      <td>16327.000000</td>\n",
              "      <td>16598.000000</td>\n",
              "      <td>16598.000000</td>\n",
              "      <td>16598.000000</td>\n",
              "      <td>16598.000000</td>\n",
              "      <td>16598.000000</td>\n",
              "    </tr>\n",
              "    <tr>\n",
              "      <th>mean</th>\n",
              "      <td>8300.605254</td>\n",
              "      <td>2006.406443</td>\n",
              "      <td>0.264667</td>\n",
              "      <td>0.146652</td>\n",
              "      <td>0.077782</td>\n",
              "      <td>0.048063</td>\n",
              "      <td>0.537441</td>\n",
              "    </tr>\n",
              "    <tr>\n",
              "      <th>std</th>\n",
              "      <td>4791.853933</td>\n",
              "      <td>5.828981</td>\n",
              "      <td>0.816683</td>\n",
              "      <td>0.505351</td>\n",
              "      <td>0.309291</td>\n",
              "      <td>0.188588</td>\n",
              "      <td>1.555028</td>\n",
              "    </tr>\n",
              "    <tr>\n",
              "      <th>min</th>\n",
              "      <td>1.000000</td>\n",
              "      <td>1980.000000</td>\n",
              "      <td>0.000000</td>\n",
              "      <td>0.000000</td>\n",
              "      <td>0.000000</td>\n",
              "      <td>0.000000</td>\n",
              "      <td>0.010000</td>\n",
              "    </tr>\n",
              "    <tr>\n",
              "      <th>25%</th>\n",
              "      <td>4151.250000</td>\n",
              "      <td>2003.000000</td>\n",
              "      <td>0.000000</td>\n",
              "      <td>0.000000</td>\n",
              "      <td>0.000000</td>\n",
              "      <td>0.000000</td>\n",
              "      <td>0.060000</td>\n",
              "    </tr>\n",
              "    <tr>\n",
              "      <th>50%</th>\n",
              "      <td>8300.500000</td>\n",
              "      <td>2007.000000</td>\n",
              "      <td>0.080000</td>\n",
              "      <td>0.020000</td>\n",
              "      <td>0.000000</td>\n",
              "      <td>0.010000</td>\n",
              "      <td>0.170000</td>\n",
              "    </tr>\n",
              "    <tr>\n",
              "      <th>75%</th>\n",
              "      <td>12449.750000</td>\n",
              "      <td>2010.000000</td>\n",
              "      <td>0.240000</td>\n",
              "      <td>0.110000</td>\n",
              "      <td>0.040000</td>\n",
              "      <td>0.040000</td>\n",
              "      <td>0.470000</td>\n",
              "    </tr>\n",
              "    <tr>\n",
              "      <th>max</th>\n",
              "      <td>16600.000000</td>\n",
              "      <td>2020.000000</td>\n",
              "      <td>41.490000</td>\n",
              "      <td>29.020000</td>\n",
              "      <td>10.220000</td>\n",
              "      <td>10.570000</td>\n",
              "      <td>82.740000</td>\n",
              "    </tr>\n",
              "  </tbody>\n",
              "</table>\n",
              "</div>\n",
              "    <div class=\"colab-df-buttons\">\n",
              "\n",
              "  <div class=\"colab-df-container\">\n",
              "    <button class=\"colab-df-convert\" onclick=\"convertToInteractive('df-cb06bc90-d317-410d-bcfd-d3c97a78464b')\"\n",
              "            title=\"Convert this dataframe to an interactive table.\"\n",
              "            style=\"display:none;\">\n",
              "\n",
              "  <svg xmlns=\"http://www.w3.org/2000/svg\" height=\"24px\" viewBox=\"0 -960 960 960\">\n",
              "    <path d=\"M120-120v-720h720v720H120Zm60-500h600v-160H180v160Zm220 220h160v-160H400v160Zm0 220h160v-160H400v160ZM180-400h160v-160H180v160Zm440 0h160v-160H620v160ZM180-180h160v-160H180v160Zm440 0h160v-160H620v160Z\"/>\n",
              "  </svg>\n",
              "    </button>\n",
              "\n",
              "  <style>\n",
              "    .colab-df-container {\n",
              "      display:flex;\n",
              "      gap: 12px;\n",
              "    }\n",
              "\n",
              "    .colab-df-convert {\n",
              "      background-color: #E8F0FE;\n",
              "      border: none;\n",
              "      border-radius: 50%;\n",
              "      cursor: pointer;\n",
              "      display: none;\n",
              "      fill: #1967D2;\n",
              "      height: 32px;\n",
              "      padding: 0 0 0 0;\n",
              "      width: 32px;\n",
              "    }\n",
              "\n",
              "    .colab-df-convert:hover {\n",
              "      background-color: #E2EBFA;\n",
              "      box-shadow: 0px 1px 2px rgba(60, 64, 67, 0.3), 0px 1px 3px 1px rgba(60, 64, 67, 0.15);\n",
              "      fill: #174EA6;\n",
              "    }\n",
              "\n",
              "    .colab-df-buttons div {\n",
              "      margin-bottom: 4px;\n",
              "    }\n",
              "\n",
              "    [theme=dark] .colab-df-convert {\n",
              "      background-color: #3B4455;\n",
              "      fill: #D2E3FC;\n",
              "    }\n",
              "\n",
              "    [theme=dark] .colab-df-convert:hover {\n",
              "      background-color: #434B5C;\n",
              "      box-shadow: 0px 1px 3px 1px rgba(0, 0, 0, 0.15);\n",
              "      filter: drop-shadow(0px 1px 2px rgba(0, 0, 0, 0.3));\n",
              "      fill: #FFFFFF;\n",
              "    }\n",
              "  </style>\n",
              "\n",
              "    <script>\n",
              "      const buttonEl =\n",
              "        document.querySelector('#df-cb06bc90-d317-410d-bcfd-d3c97a78464b button.colab-df-convert');\n",
              "      buttonEl.style.display =\n",
              "        google.colab.kernel.accessAllowed ? 'block' : 'none';\n",
              "\n",
              "      async function convertToInteractive(key) {\n",
              "        const element = document.querySelector('#df-cb06bc90-d317-410d-bcfd-d3c97a78464b');\n",
              "        const dataTable =\n",
              "          await google.colab.kernel.invokeFunction('convertToInteractive',\n",
              "                                                    [key], {});\n",
              "        if (!dataTable) return;\n",
              "\n",
              "        const docLinkHtml = 'Like what you see? Visit the ' +\n",
              "          '<a target=\"_blank\" href=https://colab.research.google.com/notebooks/data_table.ipynb>data table notebook</a>'\n",
              "          + ' to learn more about interactive tables.';\n",
              "        element.innerHTML = '';\n",
              "        dataTable['output_type'] = 'display_data';\n",
              "        await google.colab.output.renderOutput(dataTable, element);\n",
              "        const docLink = document.createElement('div');\n",
              "        docLink.innerHTML = docLinkHtml;\n",
              "        element.appendChild(docLink);\n",
              "      }\n",
              "    </script>\n",
              "  </div>\n",
              "\n",
              "\n",
              "<div id=\"df-51a9da65-3a29-40a7-9da0-09d63584eaea\">\n",
              "  <button class=\"colab-df-quickchart\" onclick=\"quickchart('df-51a9da65-3a29-40a7-9da0-09d63584eaea')\"\n",
              "            title=\"Suggest charts\"\n",
              "            style=\"display:none;\">\n",
              "\n",
              "<svg xmlns=\"http://www.w3.org/2000/svg\" height=\"24px\"viewBox=\"0 0 24 24\"\n",
              "     width=\"24px\">\n",
              "    <g>\n",
              "        <path d=\"M19 3H5c-1.1 0-2 .9-2 2v14c0 1.1.9 2 2 2h14c1.1 0 2-.9 2-2V5c0-1.1-.9-2-2-2zM9 17H7v-7h2v7zm4 0h-2V7h2v10zm4 0h-2v-4h2v4z\"/>\n",
              "    </g>\n",
              "</svg>\n",
              "  </button>\n",
              "\n",
              "<style>\n",
              "  .colab-df-quickchart {\n",
              "      --bg-color: #E8F0FE;\n",
              "      --fill-color: #1967D2;\n",
              "      --hover-bg-color: #E2EBFA;\n",
              "      --hover-fill-color: #174EA6;\n",
              "      --disabled-fill-color: #AAA;\n",
              "      --disabled-bg-color: #DDD;\n",
              "  }\n",
              "\n",
              "  [theme=dark] .colab-df-quickchart {\n",
              "      --bg-color: #3B4455;\n",
              "      --fill-color: #D2E3FC;\n",
              "      --hover-bg-color: #434B5C;\n",
              "      --hover-fill-color: #FFFFFF;\n",
              "      --disabled-bg-color: #3B4455;\n",
              "      --disabled-fill-color: #666;\n",
              "  }\n",
              "\n",
              "  .colab-df-quickchart {\n",
              "    background-color: var(--bg-color);\n",
              "    border: none;\n",
              "    border-radius: 50%;\n",
              "    cursor: pointer;\n",
              "    display: none;\n",
              "    fill: var(--fill-color);\n",
              "    height: 32px;\n",
              "    padding: 0;\n",
              "    width: 32px;\n",
              "  }\n",
              "\n",
              "  .colab-df-quickchart:hover {\n",
              "    background-color: var(--hover-bg-color);\n",
              "    box-shadow: 0 1px 2px rgba(60, 64, 67, 0.3), 0 1px 3px 1px rgba(60, 64, 67, 0.15);\n",
              "    fill: var(--button-hover-fill-color);\n",
              "  }\n",
              "\n",
              "  .colab-df-quickchart-complete:disabled,\n",
              "  .colab-df-quickchart-complete:disabled:hover {\n",
              "    background-color: var(--disabled-bg-color);\n",
              "    fill: var(--disabled-fill-color);\n",
              "    box-shadow: none;\n",
              "  }\n",
              "\n",
              "  .colab-df-spinner {\n",
              "    border: 2px solid var(--fill-color);\n",
              "    border-color: transparent;\n",
              "    border-bottom-color: var(--fill-color);\n",
              "    animation:\n",
              "      spin 1s steps(1) infinite;\n",
              "  }\n",
              "\n",
              "  @keyframes spin {\n",
              "    0% {\n",
              "      border-color: transparent;\n",
              "      border-bottom-color: var(--fill-color);\n",
              "      border-left-color: var(--fill-color);\n",
              "    }\n",
              "    20% {\n",
              "      border-color: transparent;\n",
              "      border-left-color: var(--fill-color);\n",
              "      border-top-color: var(--fill-color);\n",
              "    }\n",
              "    30% {\n",
              "      border-color: transparent;\n",
              "      border-left-color: var(--fill-color);\n",
              "      border-top-color: var(--fill-color);\n",
              "      border-right-color: var(--fill-color);\n",
              "    }\n",
              "    40% {\n",
              "      border-color: transparent;\n",
              "      border-right-color: var(--fill-color);\n",
              "      border-top-color: var(--fill-color);\n",
              "    }\n",
              "    60% {\n",
              "      border-color: transparent;\n",
              "      border-right-color: var(--fill-color);\n",
              "    }\n",
              "    80% {\n",
              "      border-color: transparent;\n",
              "      border-right-color: var(--fill-color);\n",
              "      border-bottom-color: var(--fill-color);\n",
              "    }\n",
              "    90% {\n",
              "      border-color: transparent;\n",
              "      border-bottom-color: var(--fill-color);\n",
              "    }\n",
              "  }\n",
              "</style>\n",
              "\n",
              "  <script>\n",
              "    async function quickchart(key) {\n",
              "      const quickchartButtonEl =\n",
              "        document.querySelector('#' + key + ' button');\n",
              "      quickchartButtonEl.disabled = true;  // To prevent multiple clicks.\n",
              "      quickchartButtonEl.classList.add('colab-df-spinner');\n",
              "      try {\n",
              "        const charts = await google.colab.kernel.invokeFunction(\n",
              "            'suggestCharts', [key], {});\n",
              "      } catch (error) {\n",
              "        console.error('Error during call to suggestCharts:', error);\n",
              "      }\n",
              "      quickchartButtonEl.classList.remove('colab-df-spinner');\n",
              "      quickchartButtonEl.classList.add('colab-df-quickchart-complete');\n",
              "    }\n",
              "    (() => {\n",
              "      let quickchartButtonEl =\n",
              "        document.querySelector('#df-51a9da65-3a29-40a7-9da0-09d63584eaea button');\n",
              "      quickchartButtonEl.style.display =\n",
              "        google.colab.kernel.accessAllowed ? 'block' : 'none';\n",
              "    })();\n",
              "  </script>\n",
              "</div>\n",
              "    </div>\n",
              "  </div>\n"
            ],
            "application/vnd.google.colaboratory.intrinsic+json": {
              "type": "dataframe",
              "summary": "{\n  \"name\": \"df\",\n  \"rows\": 8,\n  \"fields\": [\n    {\n      \"column\": \"Rank\",\n      \"properties\": {\n        \"dtype\": \"number\",\n        \"std\": 5981.976367735057,\n        \"min\": 1.0,\n        \"max\": 16600.0,\n        \"num_unique_values\": 8,\n        \"samples\": [\n          8300.605253645017,\n          8300.5,\n          16598.0\n        ],\n        \"semantic_type\": \"\",\n        \"description\": \"\"\n      }\n    },\n    {\n      \"column\": \"Year\",\n      \"properties\": {\n        \"dtype\": \"number\",\n        \"std\": 5211.893110411977,\n        \"min\": 5.828981114712805,\n        \"max\": 16327.0,\n        \"num_unique_values\": 8,\n        \"samples\": [\n          2006.4064433147546,\n          2007.0,\n          16327.0\n        ],\n        \"semantic_type\": \"\",\n        \"description\": \"\"\n      }\n    },\n    {\n      \"column\": \"NA_Sales\",\n      \"properties\": {\n        \"dtype\": \"number\",\n        \"std\": 5866.130607185345,\n        \"min\": 0.0,\n        \"max\": 16598.0,\n        \"num_unique_values\": 7,\n        \"samples\": [\n          16598.0,\n          0.26466742981082064,\n          0.24\n        ],\n        \"semantic_type\": \"\",\n        \"description\": \"\"\n      }\n    },\n    {\n      \"column\": \"EU_Sales\",\n      \"properties\": {\n        \"dtype\": \"number\",\n        \"std\": 5866.782660726744,\n        \"min\": 0.0,\n        \"max\": 16598.0,\n        \"num_unique_values\": 7,\n        \"samples\": [\n          16598.0,\n          0.14665200626581515,\n          0.11\n        ],\n        \"semantic_type\": \"\",\n        \"description\": \"\"\n      }\n    },\n    {\n      \"column\": \"JP_Sales\",\n      \"properties\": {\n        \"dtype\": \"number\",\n        \"std\": 5867.74249429087,\n        \"min\": 0.0,\n        \"max\": 16598.0,\n        \"num_unique_values\": 6,\n        \"samples\": [\n          16598.0,\n          0.077781660441017,\n          10.22\n        ],\n        \"semantic_type\": \"\",\n        \"description\": \"\"\n      }\n    },\n    {\n      \"column\": \"Other_Sales\",\n      \"properties\": {\n        \"dtype\": \"number\",\n        \"std\": 5867.731988913577,\n        \"min\": 0.0,\n        \"max\": 16598.0,\n        \"num_unique_values\": 7,\n        \"samples\": [\n          16598.0,\n          0.0480630196409206,\n          0.04\n        ],\n        \"semantic_type\": \"\",\n        \"description\": \"\"\n      }\n    },\n    {\n      \"column\": \"Global_Sales\",\n      \"properties\": {\n        \"dtype\": \"number\",\n        \"std\": 5864.029321762032,\n        \"min\": 0.01,\n        \"max\": 16598.0,\n        \"num_unique_values\": 8,\n        \"samples\": [\n          0.5374406555006628,\n          0.17,\n          16598.0\n        ],\n        \"semantic_type\": \"\",\n        \"description\": \"\"\n      }\n    }\n  ]\n}"
            }
          },
          "metadata": {},
          "execution_count": 6
        }
      ]
    },
    {
      "cell_type": "markdown",
      "source": [
        "Dari data yang diberikan, terdapat 6 kolom yang memiliki statistik deskriptif sebagai berikut:\n",
        "\n",
        "- Rank: Berisi peringkat permainan video dalam hal penjualan global. Statistik deskriptif:\n",
        "\n",
        "count: Jumlah total data yang ada dalam kolom (16598).\n",
        "mean: Rata-rata peringkat penjualan (8300.61).\n",
        "std: Standar deviasi peringkat penjualan (4791.85).\n",
        "min: Peringkat penjualan terendah (1).\n",
        "25%: Kuartil pertama (4151.25).\n",
        "50%: Median atau kuartil kedua (8300.50).\n",
        "75%: Kuartil ketiga (12449.75).\n",
        "max: Peringkat penjualan tertinggi (16600).\n",
        "Year: Berisi tahun rilis permainan video. Statistik deskriptif:\n",
        "\n",
        "count: Jumlah total data yang ada dalam kolom (16327).\n",
        "mean: Rata-rata tahun rilis (2006.41).\n",
        "std: Standar deviasi tahun rilis (5.83).\n",
        "min: Tahun rilis terlama (1980).\n",
        "25%: Kuartil pertama (2003).\n",
        "50%: Median atau kuartil kedua (2007).\n",
        "75%: Kuartil ketiga (2010).\n",
        "max: Tahun rilis terbaru (2020).\n",
        "\n",
        "- NA_Sales: Berisi total penjualan di Amerika Utara dalam jutaan salinan. Statistik deskriptif:\n",
        "\n",
        "count: Jumlah total data yang ada dalam kolom (16598).\n",
        "mean: Rata-rata penjualan di Amerika Utara (0.26).\n",
        "std: Standar deviasi penjualan di Amerika Utara (0.82).\n",
        "min: Penjualan terendah di Amerika Utara (0).\n",
        "25%: Kuartil pertama (0).\n",
        "50%: Median atau kuartil kedua (0.08).\n",
        "75%: Kuartil ketiga (0.24).\n",
        "max: Penjualan tertinggi di Amerika Utara (41.49).\n",
        "\n",
        "- EU_Sales: Berisi total penjualan di Eropa dalam jutaan salinan. Statistik deskriptif:\n",
        "\n",
        "count: Jumlah total data yang ada dalam kolom (16598).\n",
        "mean: Rata-rata penjualan di Eropa (0.15).\n",
        "std: Standar deviasi penjualan di Eropa (0.51).\n",
        "min: Penjualan terendah di Eropa (0).\n",
        "25%: Kuartil pertama (0).\n",
        "50%: Median atau kuartil kedua (0.02).\n",
        "75%: Kuartil ketiga (0.11).\n",
        "max: Penjualan tertinggi di Eropa (29.02).\n",
        "\n",
        "- JP_Sales: Berisi total penjualan di Jepang dalam jutaan salinan. Statistik deskriptif:\n",
        "\n",
        "count: Jumlah total data yang ada dalam kolom (16598).\n",
        "mean: Rata-rata penjualan di Jepang (0.08).\n",
        "std: Standar deviasi penjualan di Jepang (0.31).\n",
        "min: Penjualan terendah di Jepang (0).\n",
        "25%: Kuartil pertama (0).\n",
        "50%: Median atau kuartil kedua (0).\n",
        "75%: Kuartil ketiga (0.04).\n",
        "max: Penjualan tertinggi di Jepang (10.22).\n",
        "\n",
        "- Other_Sales: Berisi total penjualan di seluruh dunia, kecuali di Amerika Utara, Eropa, dan Jepang, dalam jutaan salinan. Statistik deskriptif:\n",
        "\n",
        "count: Jumlah total data yang ada dalam kolom (16598).\n",
        "mean: Rata-rata penjualan di seluruh dunia (0.05).\n",
        "std: Standar deviasi penjualan di seluruh dunia (0.19).\n",
        "min: Penjualan terendah di seluruh dunia (0).\n",
        "25%: Kuartil pertama (0).\n",
        "50%: Median atau kuartil kedua (0.01).\n",
        "75%: Kuartil ketiga (0.04).\n",
        "max: Penjualan tertinggi di seluruh dunia (10.57).\n",
        "\n",
        "- Global_Sales: Berisi total penjualan global dalam jutaan salinan. Statistik deskriptif:\n",
        "\n",
        "count: Jumlah total data yang ada dalam kolom (16598).\n",
        "mean: Rata-rata penjualan global (0.54).\n",
        "std: Standar deviasi penjualan global (1.56).\n",
        "min: Penjualan global terendah (0.01).\n",
        "25%: Kuartil pertama (0.06).\n",
        "50%: Median atau kuartil kedua (0.17).\n",
        "75%: Kuartil ketiga (0.47).\n",
        "max: Penjualan global tertinggi (82.74).\n",
        "\n",
        "Dari statistik deskriptif ini, kita dapat mengetahui distribusi data pada masing-masing kolom, termasuk rata-rata, standar deviasi, dan kuartil."
      ],
      "metadata": {
        "id": "25kSrRMC7nau"
      }
    },
    {
      "cell_type": "markdown",
      "source": [
        "##**Exploratory Data Analysis**"
      ],
      "metadata": {
        "id": "eJetcDIzH5BD"
      }
    },
    {
      "cell_type": "code",
      "source": [
        "df = pd.read_csv('vgsales.csv')\n",
        "\n",
        "columns = ['Rank', 'Year', 'NA_Sales', 'EU_Sales', 'JP_Sales', 'Other_Sales', 'Global_Sales']\n",
        "\n",
        "plt.figure(figsize=(10, 8))\n",
        "\n",
        "for i, year in enumerate(columns):\n",
        "    plt.subplot(2, 4, i + 1)\n",
        "    sns.histplot(data=df, x=year, kde=True, bins=15, color='red')\n",
        "\n",
        "plt.show()"
      ],
      "metadata": {
        "colab": {
          "base_uri": "https://localhost:8080/",
          "height": 700
        },
        "id": "zZCvLhn-JZi_",
        "outputId": "33e9260f-5418-4fd1-e113-79db99fbf937"
      },
      "execution_count": 11,
      "outputs": [
        {
          "output_type": "display_data",
          "data": {
            "text/plain": [
              "<Figure size 1000x800 with 7 Axes>"
            ],
            "image/png": "[encoded data removed]"
          },
          "metadata": {}
        }
      ]
    },
    {
      "cell_type": "markdown",
      "source": [
        "- Peringkat Penjualan Global (Rank): Histogram menunjukkan distribusi peringkat penjualan global. Asumsi: Semakin tinggi peringkat, semakin rendah penjualan global.\n",
        "\n",
        "- Tahun Rilis (Year): Histogram menunjukkan distribusi tahun rilis. Asumsi: Banyaknya permainan yang dirilis setiap tahun, dengan asumsi konstannya jumlah penjualan permainan video setiap tahun.\n",
        "\n",
        "- Penjualan di Amerika Utara (NA_Sales): Histogram menunjukkan distribusi penjualan di Amerika Utara. Asumsi: Semakin tinggi penjualan di Amerika Utara, semakin tinggi juga penjualan global karena Amerika Utara adalah pasar video game terbesar.\n",
        "\n",
        "- Penjualan di Eropa (EU_Sales): Histogram menunjukkan distribusi penjualan di Eropa. Asumsi: Semakin tinggi penjualan di Eropa, semakin tinggi juga penjualan global karena Eropa adalah pasar besar untuk permainan video.\n",
        "\n",
        "- Penjualan di Jepang (JP_Sales): Histogram menunjukkan distribusi penjualan di Jepang. Asumsi: Semakin tinggi penjualan di Jepang, semakin tinggi juga penjualan global karena Jepang adalah pasar besar untuk permainan video.\n",
        "\n",
        "- Penjualan di Wilayah Lain (Other_Sales): Histogram menunjukkan distribusi penjualan di wilayah lain. Asumsi: Semakin tinggi penjualan di wilayah lain, semakin tinggi juga penjualan global karena wilayah lain juga memiliki pasar permainan video yang signifikan.\n",
        "\n",
        "- Penjualan Global (Global_Sales): Histogram menunjukkan distribusi penjualan global. Asumsi: Semakin tinggi penjualan global, semakin tinggi juga penjualan di wilayah lain karena penjualan global adalah jumlah dari penjualan di semua wilayah.\n",
        "\n",
        "Dengan visualisasi ini, kita dapat melihat distribusi dari setiap kolom yang berkaitan dengan penjualan permainan video. Asumsi-asumsi yang disebutkan di atas berdasarkan logika pasar dan mungkin tidak berlaku untuk setiap situasi atau permainan individual."
      ],
      "metadata": {
        "id": "vcOJ29AqLld8"
      }
    },
    {
      "cell_type": "code",
      "source": [
        "cols = ['NA_Sales', 'EU_Sales', 'JP_Sales', 'Other_Sales', 'Global_Sales']\n",
        "\n",
        "plt.figure(figsize=(10, 8))\n",
        "sns.heatmap(df[cols].corr(), annot=True, cmap='coolwarm', center=0)\n",
        "plt.title('Korelasi Antara Penjualan di Berbagai Wilayah dan Penjualan Global')\n",
        "plt.show()"
      ],
      "metadata": {
        "colab": {
          "base_uri": "https://localhost:8080/",
          "height": 699
        },
        "id": "Cs5uRzpHOKrd",
        "outputId": "245ebe44-3cbe-4dc4-ef7c-844bc55ffed3"
      },
      "execution_count": 12,
      "outputs": [
        {
          "output_type": "display_data",
          "data": {
            "text/plain": [
              "<Figure size 1000x800 with 2 Axes>"
            ],
            "image/png": "[encoded data removed]"
          },
          "metadata": {}
        }
      ]
    },
    {
      "cell_type": "markdown",
      "source": [
        "Dari visualisasi korelasi di atas, kita dapat melihat bahwa penjualan di Amerika Utara (NA_Sales) dan Eropa (EU_Sales) memiliki korelasi positif yang kuat dengan penjualan global (Global_Sales). Artinya, ketika penjualan di Amerika Utara atau Eropa meningkat, penjualan global juga cenderung meningkat. Sementara itu, penjualan di Jepang (JP_Sales) memiliki korelasi yang lebih rendah dengan penjualan global, dan penjualan di wilayah lain (Other_Sales) memiliki korelasi yang lebih rendah lagi."
      ],
      "metadata": {
        "id": "3lE0_mVBOSwg"
      }
    },
    {
      "cell_type": "markdown",
      "source": [
        "##**Verify Data Quality**"
      ],
      "metadata": {
        "id": "IMJA9H7yNTpB"
      }
    },
    {
      "cell_type": "markdown",
      "source": [
        "####Missing Values"
      ],
      "metadata": {
        "id": "93nFXsyGNW62"
      }
    },
    {
      "cell_type": "code",
      "source": [
        "data = pd.read_csv('vgsales.csv')\n",
        "\n",
        "# Mengecek apakah ada nilai kosong pada setiap kolom\n",
        "missing_values = data.isnull().sum()\n",
        "\n",
        "# Menampilkan jumlah nilai kosong pada tiap kolom\n",
        "print(missing_values)"
      ],
      "metadata": {
        "colab": {
          "base_uri": "https://localhost:8080/"
        },
        "id": "eC0wKk07OXRQ",
        "outputId": "b2ba66d2-75d3-4ea7-ef3f-2bda09cdce84"
      },
      "execution_count": 14,
      "outputs": [
        {
          "output_type": "stream",
          "name": "stdout",
          "text": [
            "Rank              0\n",
            "Name              0\n",
            "Platform          0\n",
            "Year            271\n",
            "Genre             0\n",
            "Publisher        58\n",
            "NA_Sales          0\n",
            "EU_Sales          0\n",
            "JP_Sales          0\n",
            "Other_Sales       0\n",
            "Global_Sales      0\n",
            "dtype: int64\n"
          ]
        }
      ]
    },
    {
      "cell_type": "markdown",
      "source": [
        "Dari tabel yang diberikan, kita dapat melihat bahwa kolom \"Year\" memiliki 271 nilai kosong, sedangkan kolom \"Publisher\" memiliki 58 nilai kosong. Sementara itu, kolom-kolom lainnya tidak memiliki nilai kosong.\n",
        "\n",
        "- Year (Tahun Rilis): Terdapat 271 nilai kosong pada kolom ini. Hal ini mungkin disebabkan oleh beberapa alasan, seperti:\n",
        "\n",
        "Beberapa permainan mungkin tidak memiliki data tahun rilis karena tidak diketahui atau tidak relevan.\n",
        "Kesalahan dalam mengumpulkan data atau input data.\n",
        "Beberapa permainan mungkin dirilis sebelum periode waktu yang ditetapkan dalam dataset.\n",
        "- Publisher (Penerbit): Terdapat 58 nilai kosong pada kolom ini. Hal ini mungkin disebabkan oleh beberapa alasan, seperti:\n",
        "\n",
        "Beberapa permainan mungkin tidak memiliki data penerbit karena tidak diketahui atau tidak relevan.\n",
        "Kesalahan dalam mengumpulkan data atau input data.\n",
        "Beberapa permainan mungkin diproduksi oleh pengembang yang tidak memiliki penerbit yang terkait."
      ],
      "metadata": {
        "id": "Tjq3oywXOr5R"
      }
    },
    {
      "cell_type": "markdown",
      "source": [
        "####Outliers Values"
      ],
      "metadata": {
        "id": "OB3pJ4i9O9Cg"
      }
    },
    {
      "cell_type": "code",
      "source": [
        "# Mendefinisikan fungsi untuk mendeteksi outliers dan menghitung persentase\n",
        "def detect_outliers(column):\n",
        "    # Convert the column to a numeric data type\n",
        "    column = pd.to_numeric(column, errors='coerce')\n",
        "\n",
        "    # Remove NaN values\n",
        "    column = column.dropna()\n",
        "\n",
        "    Q1 = column.quantile(0.25)\n",
        "    Q3 = column.quantile(0.75)\n",
        "    IQR = Q3 - Q1\n",
        "\n",
        "    # Detect outliers\n",
        "    outliers = (column < (Q1 - 1.5 * IQR)) | (column > (Q3 + 1.5 * IQR))\n",
        "\n",
        "    # Calculate the percentage of outliers\n",
        "    percentage_outliers = outliers.sum() / len(column) * 100\n",
        "\n",
        "    return outliers, percentage_outliers\n",
        "\n",
        "\n",
        "# Loop untuk setiap kolom\n",
        "for column in df.columns:\n",
        "    outliers, percentage_outliers = detect_outliers(df[column])\n",
        "\n",
        "    print(f\"Kolom '{column}':\")\n",
        "    print(f\"  - Jumlah outliers: {outliers.sum()}\")\n",
        "    print(f\"  - Persentase kehadiran outliers: {percentage_outliers:.2f}%\")\n",
        "    print()"
      ],
      "metadata": {
        "colab": {
          "base_uri": "https://localhost:8080/"
        },
        "id": "67hMJxIzO9zZ",
        "outputId": "1136bf0e-5898-497f-bd99-cba61cdd0e03"
      },
      "execution_count": 15,
      "outputs": [
        {
          "output_type": "stream",
          "name": "stdout",
          "text": [
            "Kolom 'Rank':\n",
            "  - Jumlah outliers: 0\n",
            "  - Persentase kehadiran outliers: 0.00%\n",
            "\n",
            "Kolom 'Name':\n",
            "  - Jumlah outliers: 0\n",
            "  - Persentase kehadiran outliers: 0.00%\n",
            "\n",
            "Kolom 'Platform':\n",
            "  - Jumlah outliers: 0\n",
            "  - Persentase kehadiran outliers: 0.00%\n",
            "\n",
            "Kolom 'Year':\n",
            "  - Jumlah outliers: 305\n",
            "  - Persentase kehadiran outliers: 1.87%\n",
            "\n",
            "Kolom 'Genre':\n",
            "  - Jumlah outliers: 0\n",
            "  - Persentase kehadiran outliers: nan%\n",
            "\n",
            "Kolom 'Publisher':\n",
            "  - Jumlah outliers: 0\n",
            "  - Persentase kehadiran outliers: nan%\n",
            "\n",
            "Kolom 'NA_Sales':\n",
            "  - Jumlah outliers: 1681\n",
            "  - Persentase kehadiran outliers: 10.13%\n",
            "\n",
            "Kolom 'EU_Sales':\n",
            "  - Jumlah outliers: 2081\n",
            "  - Persentase kehadiran outliers: 12.54%\n",
            "\n",
            "Kolom 'JP_Sales':\n",
            "  - Jumlah outliers: 2425\n",
            "  - Persentase kehadiran outliers: 14.61%\n",
            "\n",
            "Kolom 'Other_Sales':\n",
            "  - Jumlah outliers: 1665\n",
            "  - Persentase kehadiran outliers: 10.03%\n",
            "\n",
            "Kolom 'Global_Sales':\n",
            "  - Jumlah outliers: 1893\n",
            "  - Persentase kehadiran outliers: 11.40%\n",
            "\n"
          ]
        },
        {
          "output_type": "stream",
          "name": "stderr",
          "text": [
            "<ipython-input-15-5566fad069cf>:17: RuntimeWarning: invalid value encountered in scalar divide\n",
            "  percentage_outliers = outliers.sum() / len(column) * 100\n",
            "<ipython-input-15-5566fad069cf>:17: RuntimeWarning: invalid value encountered in scalar divide\n",
            "  percentage_outliers = outliers.sum() / len(column) * 100\n"
          ]
        }
      ]
    },
    {
      "cell_type": "markdown",
      "source": [
        "-Rank: Tidak ada outliers di kolom ini. Ini adalah kolom yang berisi peringkat penjualan permainan video.\n",
        "\n",
        "- Name: Tidak ada outliers di kolom ini. Ini adalah kolom yang berisi nama permainan video.\n",
        "\n",
        "- Platform: Tidak ada outliers di kolom ini. Ini adalah kolom yang berisi platform di mana permainan video dirilis.\n",
        "\n",
        "- Year: Terdapat 305 outliers di kolom ini, yang berarti ada permainan yang dirilis pada tahun yang tidak biasa atau tidak mungkin. Ini bisa menjadi kesalahan dalam pengumpulan data atau penambahan permainan yang dirilis sebelum dataset dimulai.\n",
        "\n",
        "- Genre: Tidak ada outliers di kolom ini. Ini adalah kolom yang berisi genre dari permainan video.\n",
        "\n",
        "- Publisher: Tidak ada outliers di kolom ini. Ini adalah kolom yang berisi nama penerbit permainan video.\n",
        "\n",
        "- NA_Sales, EU_Sales, JP_Sales, Other_Sales, Global_Sales: Semua kolom penjualan memiliki outliers. Ini bisa menjadi indikasi penjualan yang sangat tinggi atau rendah untuk beberapa permainan video. Hal ini dapat disebabkan oleh kesuksesan luar biasa atau kegagalan permainan dalam mencapai pasar tertentu. Outliers ini mungkin merupakan permainan terkenal atau langka yang memiliki dampak signifikan pada penjualan total."
      ],
      "metadata": {
        "id": "aCm8gkOOPZSb"
      }
    },
    {
      "cell_type": "markdown",
      "source": [
        "####Duplicated Values"
      ],
      "metadata": {
        "id": "PMwTL1_XPgyN"
      }
    },
    {
      "cell_type": "code",
      "source": [
        "duplicates_by_values = df.duplicated().sum()\n",
        "\n",
        "# Menampilkan jumlah nilai duplikat pada tiap kolom\n",
        "print(duplicates_by_values)"
      ],
      "metadata": {
        "colab": {
          "base_uri": "https://localhost:8080/"
        },
        "id": "GObwyOE3PutK",
        "outputId": "8f0fc34f-3861-466c-bb46-6f0dca06e6fe"
      },
      "execution_count": 16,
      "outputs": [
        {
          "output_type": "stream",
          "name": "stdout",
          "text": [
            "0\n"
          ]
        }
      ]
    },
    {
      "cell_type": "markdown",
      "source": [
        "hasil dari output ini adalah 0 yang menandakan tidak ada yg terduplikat."
      ],
      "metadata": {
        "id": "cpK2c6O-PyZG"
      }
    }
  ]
}