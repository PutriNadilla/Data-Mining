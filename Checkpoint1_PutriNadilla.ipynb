{
  "nbformat": 4,
  "nbformat_minor": 0,
  "metadata": {
    "colab": {
      "provenance": []
    },
    "kernelspec": {
      "name": "python3",
      "display_name": "Python 3"
    },
    "language_info": {
      "name": "python"
    }
  },
  "cells": [
    {
      "cell_type": "markdown",
      "source": [
        "\n",
        "# Video Game Sales Analysis"
      ],
      "metadata": {
        "id": "9ohDIKJ3zmIM"
      }
    },
    {
      "cell_type": "markdown",
      "source": [
        "## Business Understanding"
      ],
      "metadata": {
        "id": "EW2vJwln9FXx"
      }
    },
    {
      "cell_type": "markdown",
      "source": [
        "### Business Objective\n",
        "Tujuan bisnis dari dataset ini adalah untuk menganalisis penjualan global video game, analisis ini bertujuan untuk memberikan pandangan yang berguna bagi pengembang dan penerbit game dalam membuat keputusan strategis terkait pemasaran, pengembangan game baru, dan distribusi.\n",
        "\n",
        "### Assess Situation\n",
        "Situasi bisnis yang mendasari analisis ini didasarkan pada situasi bisnis yang kompleks di industri game. Dalam industri yang sangat kompetitif, perusahaan game menghadapi persaingan yang ketat dalam merebut pangsa pasar. Dengan menganalisis data penjualan, perusahaan dapat memahami tren pasar, preferensi konsumen, dan faktor-faktor yang mempengaruhi keberhasilan sebuah video game.\n",
        "\n",
        "### Data Mining Goals\n",
        "Tujuan dari data mining pada dataset ini adalah untuk mengidentifikasi faktor-faktor yang mempengaruhi penjualan global video game yang dapat memberikan pandangan tentang preferensi konsumen dan tren pasar. Hal ini mencakup identifikasi genre game yang paling diminati, platform yang paling populer, hubungan antara waktu rilis dan penjualan. Selain itu, tujuan analisis data juga mencakup pengembangan model prediktif untuk memprediksi penjualan game di masa depan berdasarkan fitur-fitur tertentu.\n",
        "\n",
        "### Project Plan\n",
        "Rencana proyek untuk menganalisis dataset ini mencakup langkah-langkah yaitu persiapan data, analisis eksplorasi data, pemodelan, evaluasi model, dan penyajian hasil, yang akan memastikan bahwa proyek menghasilkan hasil yang relevan dan bermanfaat bagi perusahaan game.\n",
        "\n"
      ],
      "metadata": {
        "id": "jslxDMth9LvQ"
      }
    }
  ]
}